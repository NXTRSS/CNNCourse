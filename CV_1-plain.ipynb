{
 "cells": [
  {
   "cell_type": "markdown",
   "metadata": {
    "id": "p7eSkJxR_8jG"
   },
   "source": [
    "# Computer Vision"
   ]
  },
  {
   "cell_type": "code",
   "execution_count": null,
   "metadata": {
    "colab": {
     "base_uri": "https://localhost:8080/"
    },
    "id": "yUlMR35gDBcO",
    "outputId": "8ac47d90-cebb-465a-ba0f-befe4ce03421"
   },
   "outputs": [],
   "source": [
    "#poniższe linijki tylko dla Colaba\n",
    "\n",
    "# from google.colab import drive\n",
    "# drive.mount('/content/drive/')\n"
   ]
  },
  {
   "cell_type": "code",
   "execution_count": null,
   "metadata": {
    "colab": {
     "base_uri": "https://localhost:8080/"
    },
    "id": "zHgXj5GU8Aol",
    "outputId": "f1c5e2ef-a380-41c1-bdab-63b4090a90aa"
   },
   "outputs": [],
   "source": [
    "#poniższa linijki tylko dla Colaba\n",
    "\n",
    "# !ls -la '/content/drive/My Drive/Colab Notebooks/'"
   ]
  },
  {
   "cell_type": "code",
   "execution_count": null,
   "metadata": {
    "id": "qdYl29M3B_Zo"
   },
   "outputs": [],
   "source": [
    "import cv2\n",
    "from ipywidgets import interact, interactive, fixed, interact_manual\n",
    "import ipywidgets as widgets\n",
    "import matplotlib.pyplot as plt\n",
    "\n",
    "#poniższa linijka tylko dla Colaba\n",
    "\n",
    "# from google.colab.patches import cv2_imshow\n",
    "\n",
    "#proszę poniżej wprowadzić odpowiednie nazwy pliku ze zdjęciem!\n",
    "img_org = cv2.imread('test.png')\n",
    "img2 = cv2.imread('test2.png')\n"
   ]
  },
  {
   "cell_type": "code",
   "execution_count": null,
   "metadata": {
    "colab": {
     "base_uri": "https://localhost:8080/",
     "height": 287
    },
    "id": "PqrrCwEQIzuQ",
    "outputId": "2f71985b-ec57-4df1-95bd-25ca74742837"
   },
   "outputs": [],
   "source": [
    "\n",
    "plt.imshow(img_org)"
   ]
  },
  {
   "cell_type": "code",
   "execution_count": null,
   "metadata": {
    "colab": {
     "base_uri": "https://localhost:8080/",
     "height": 287
    },
    "id": "JCtDKRSeJSIs",
    "outputId": "43aac00e-f6db-489d-d1c6-bc0620c97834"
   },
   "outputs": [],
   "source": [
    "import numpy as np\n",
    "img = cv2.cvtColor(img_org, cv2.COLOR_BGR2RGB)\n",
    "plt.imshow(img)"
   ]
  },
  {
   "cell_type": "code",
   "execution_count": null,
   "metadata": {},
   "outputs": [],
   "source": [
    "img2 = cv2.cvtColor(img2, cv2.COLOR_BGR2RGB)\n",
    "plt.imshow(img2)"
   ]
  },
  {
   "cell_type": "markdown",
   "metadata": {
    "id": "b9_Pu1-1SN2g"
   },
   "source": [
    "# Filtry"
   ]
  },
  {
   "cell_type": "code",
   "execution_count": null,
   "metadata": {
    "colab": {
     "base_uri": "https://localhost:8080/",
     "height": 1000
    },
    "id": "NDYrenzdHJYO",
    "outputId": "419faa30-88cd-4caf-d768-79061dad816f"
   },
   "outputs": [],
   "source": [
    "#Filters\n",
    "import numpy as np\n",
    "\n",
    "#Funkcja pomocnicza do stosowania filtrów\n",
    "def apply_filter(source, kernel, gray=False):\n",
    "    new_image = cv2.filter2D(source, -1, kernel)\n",
    "    if gray:\n",
    "        plt.imshow(new_image, cmap=plt.get_cmap('gray'))\n",
    "    else:\n",
    "        plt.imshow(new_image)\n",
    "    return new_image"
   ]
  },
  {
   "cell_type": "code",
   "execution_count": null,
   "metadata": {},
   "outputs": [],
   "source": [
    "#idendity\n",
    "# proszę zadeklarować poprawny filtr identity (identyczność) jako macierz z numpy\n",
    "idendity_kernel = None\n",
    "\n",
    "print(\"identity\")\n",
    "idt = apply_filter(img, idendity_kernel)"
   ]
  },
  {
   "cell_type": "code",
   "execution_count": null,
   "metadata": {},
   "outputs": [],
   "source": [
    "#blur\n",
    "# proszę zadeklarować poprawny filtr blur jako macierz z numpy\n",
    "blur_kernel = None\n",
    "\n",
    "print(\"blur\")\n",
    "blur = apply_filter(img, blur_kernel)"
   ]
  },
  {
   "cell_type": "code",
   "execution_count": null,
   "metadata": {},
   "outputs": [],
   "source": [
    "#sharpen\n",
    "# proszę zadeklarować poprawny filtr sharpen jako macierz z numpy\n",
    "sharpen_kernel = None\n",
    "\n",
    "print(\"sharpen\")\n",
    "sharpen = apply_filter(img, sharpen_kernel)"
   ]
  },
  {
   "cell_type": "code",
   "execution_count": null,
   "metadata": {},
   "outputs": [],
   "source": [
    "#zapisanie zdjęcia w skali szarości\n",
    "gray_img = cv2.cvtColor(img, cv2.COLOR_BGR2GRAY)\n",
    "plt.imshow(gray_img, cmap=plt.get_cmap('gray'))"
   ]
  },
  {
   "cell_type": "code",
   "execution_count": null,
   "metadata": {},
   "outputs": [],
   "source": [
    "#simply_edge_detection\n",
    "# proszę zadeklarować poprawny filtr prostej detekcji krawędzi jako macierz z numpy\n",
    "simply_edge_kernel = None\n",
    "\n",
    "print(\"simply_edge_detection\")\n",
    "simple = apply_filter(gray_img, simply_edge_kernel, gray=True)"
   ]
  },
  {
   "cell_type": "code",
   "execution_count": null,
   "metadata": {},
   "outputs": [],
   "source": [
    "#bottom sobel\n",
    "# proszę zadeklarować poprawny filtr bottom sobel jako macierz z numpy\n",
    "bottom_sobel_kernel = None\n",
    "\n",
    "print(\"bottom_sobel\")\n",
    "bottom_sobel_img = apply_filter(gray_img, bottom_sobel_kernel, gray=True)"
   ]
  },
  {
   "cell_type": "code",
   "execution_count": null,
   "metadata": {},
   "outputs": [],
   "source": [
    "#left sobel\n",
    "# proszę zadeklarować poprawny filtr left sobel jako macierz z numpy\n",
    "left_sobel_kernel = None\n",
    "\n",
    "print(\"left_sobel\")\n",
    "left_sobel_img = apply_filter(gray_img, left_sobel_kernel, gray=True)"
   ]
  },
  {
   "cell_type": "code",
   "execution_count": null,
   "metadata": {},
   "outputs": [],
   "source": [
    "#Zastosowanie full sobel\n",
    "full_sobel_img = left_sobel_img / 2 + bottom_sobel_img / 2\n",
    "print(\"full sobel\")\n",
    "plt.imshow(full_sobel_img, cmap=plt.get_cmap('gray'))"
   ]
  },
  {
   "cell_type": "markdown",
   "metadata": {
    "id": "9j96w7lMSbJl"
   },
   "source": [
    "# Histogram Equalization"
   ]
  },
  {
   "cell_type": "code",
   "execution_count": null,
   "metadata": {
    "colab": {
     "base_uri": "https://localhost:8080/",
     "height": 269
    },
    "id": "UdUJiMaYA-kG",
    "outputId": "086d4827-8bf4-403c-d752-d29319202686"
   },
   "outputs": [],
   "source": [
    "import matplotlib.pyplot as plt\n",
    "\n",
    "def show_histogram(image):\n",
    "    ax1 = plt.subplot(331)\n",
    "    plt.xlim([0, 256])\n",
    "    plt.ylim([0, 4000])\n",
    "    for i, col in enumerate(['b', 'g', 'r']):\n",
    "        hist = cv2.calcHist([image], [i], None, [256], [0, 256])\n",
    "        ax1 = plt.subplot(3,1,i+1, sharey=ax1)\n",
    "        plt.plot(hist, color = col)\n",
    "        \n",
    "        if i<2:\n",
    "            plt.setp(ax1.get_xticklabels(), visible=False)\n",
    "    plt.show()\n",
    "\n",
    "show_histogram(img)"
   ]
  },
  {
   "cell_type": "code",
   "execution_count": null,
   "metadata": {
    "colab": {
     "base_uri": "https://localhost:8080/",
     "height": 615
    },
    "id": "RQdCkdJuSgRB",
    "outputId": "dd0bb081-5c17-49ae-9473-0b38e034fe6f"
   },
   "outputs": [],
   "source": [
    "#Funkcja do wyrównywania histogramu\n",
    "def show_hsv_equalized(image):\n",
    "    new_image = cv2.cvtColor(image, cv2.COLOR_BGR2HSV)\n",
    "    H, S, V = cv2.split(new_image)\n",
    "    eq_H = cv2.equalizeHist(H)\n",
    "    eq_S = cv2.equalizeHist(S)\n",
    "    eq_V = cv2.equalizeHist(V)\n",
    "    eq_image = cv2.cvtColor(cv2.merge([H, S, eq_V]), cv2.COLOR_HSV2BGR)\n",
    "    plt.imshow(eq_image)\n",
    "    plt.show()\n",
    "    show_histogram(eq_image)\n",
    "\n",
    "show_hsv_equalized(img)"
   ]
  },
  {
   "cell_type": "code",
   "execution_count": null,
   "metadata": {
    "colab": {
     "base_uri": "https://localhost:8080/",
     "height": 269
    },
    "id": "lCtnHcScOwMC",
    "outputId": "b5d491a1-a338-4748-e6ff-8e5f9acecb61"
   },
   "outputs": [],
   "source": [
    "show_histogram(img2)"
   ]
  },
  {
   "cell_type": "code",
   "execution_count": null,
   "metadata": {
    "colab": {
     "base_uri": "https://localhost:8080/",
     "height": 845
    },
    "id": "FVDmy0xKOoCq",
    "outputId": "ed6a9e0c-afa6-4043-d57d-622722489fb8"
   },
   "outputs": [],
   "source": [
    "show_hsv_equalized(img2)"
   ]
  },
  {
   "cell_type": "markdown",
   "metadata": {
    "id": "UaByMNkPNVJN"
   },
   "source": [
    "# Progression"
   ]
  },
  {
   "cell_type": "code",
   "execution_count": null,
   "metadata": {
    "colab": {
     "base_uri": "https://localhost:8080/",
     "height": 395,
     "referenced_widgets": [
      "47b5aeb9e3b74da08701c35d348b1a13",
      "339ff348dab34d70893d366615619c06",
      "2973fe57fa8a45e3882612e907abf459",
      "f14a40ab70684aeea8de4556d4c0f055",
      "75e3316cd12a4f17ba8bf367094c9613",
      "cfdd3714f7734e64bee8ed4c3dcdf332",
      "8d36e91bdd004ff8a1d48b85b6930aae"
     ]
    },
    "id": "dhZhGbMBNZ4p",
    "outputId": "cbc1f390-af66-4c61-8d04-6ec57a45c099"
   },
   "outputs": [],
   "source": [
    "def threshold(image):\n",
    "    @interact(x=widgets.IntSlider(min=0, max=255, step=1, value=100))\n",
    "    def trackbar(x):\n",
    "        gray_img = cv2.cvtColor(img, cv2.COLOR_BGR2GRAY)\n",
    "        _,thresh1 = cv2.threshold(gray_img,x,255,cv2.THRESH_BINARY)\n",
    "        plt.imshow(thresh1, cmap=plt.get_cmap('gray'))\n",
    "\n",
    "threshold(img)"
   ]
  },
  {
   "cell_type": "code",
   "execution_count": null,
   "metadata": {
    "colab": {
     "base_uri": "https://localhost:8080/",
     "height": 427,
     "referenced_widgets": [
      "dc4932d5ba14434e860f889cd849d5af",
      "3b47cf5692874295b429a14c5a7b3774",
      "443d957d32e3435abd7d28b7ce8068fa",
      "587e27b3987b4c4e9ce2e40a81a555b7",
      "8740394ae5704f739c6e44b7d7b5252a",
      "dc11edc1c5cd48d9a0e9312c91e97d34",
      "568d0b19254c496184cdb9aeaf96678e",
      "21a7b178ce0e47ad9a0bc1fc67b759c6",
      "c39f5baca4114b6690b21c0b71d3bf7b",
      "e2555bf3ac664fb89f77575b7a606062"
     ]
    },
    "id": "F5BO2-waQeFV",
    "outputId": "5b836dcc-3313-4587-c3c8-f705a6f1d670"
   },
   "outputs": [],
   "source": [
    "def adaptive_threshold(image):\n",
    "    @interact(x=widgets.IntSlider(min=3, max=15, step=2, value=9), y=True)\n",
    "    def trackbar(x, y):\n",
    "        gray_img = cv2.cvtColor(img, cv2.COLOR_BGR2GRAY)\n",
    "        if y:\n",
    "            adaptive_method = cv2.ADAPTIVE_THRESH_MEAN_C\n",
    "        else:\n",
    "            adaptive_method = cv2.ADAPTIVE_THRESH_GAUSSIAN_C\n",
    "        result = cv2.adaptiveThreshold(gray_img,255,adaptive_method, \n",
    "                                        cv2.THRESH_BINARY,x,2)\n",
    "        plt.imshow(result, cmap=plt.get_cmap('gray'))\n",
    "        \n",
    "adaptive_threshold(img)"
   ]
  },
  {
   "cell_type": "code",
   "execution_count": null,
   "metadata": {
    "colab": {
     "base_uri": "https://localhost:8080/"
    },
    "id": "U7nsveZsRDhk",
    "outputId": "420409b8-8fca-4f3b-9875-31524bbdd7d7"
   },
   "outputs": [],
   "source": [
    "help(cv2.adaptiveThreshold)"
   ]
  },
  {
   "cell_type": "markdown",
   "metadata": {
    "id": "1171h1-bXBpG"
   },
   "source": [
    "# Morphological operation"
   ]
  },
  {
   "cell_type": "code",
   "execution_count": null,
   "metadata": {
    "colab": {
     "base_uri": "https://localhost:8080/",
     "height": 805,
     "referenced_widgets": [
      "a92cc5e42f794fa0922612db558ead30",
      "9b769cf149874ffa84fff8a89245fa5e",
      "037c379f0b764c3baacc9ff1118e1250",
      "3e073626621e48cead203432feee8cf5",
      "0a42cfebc67742ed9e4c11a72fc7ca16",
      "4845519875804772be50c3365153f0a5",
      "09a1d158ffef45eebcba1d85c20b6d9e",
      "d1ffcf83d569434a850c721588e3ec61",
      "31f05a2a627449cea0f199cdf6044196",
      "901a38c849c8455290eeea1f24a764c4",
      "3229272b566f408c9c047154d7b4e87e",
      "ab8b8f710bd04f2b87c8097b79ce7c60",
      "cb0c04e807904cae9d9bf3bb0fc9c535"
     ]
    },
    "id": "tx6ddsbeXH32",
    "outputId": "c26d83dd-d7d0-4bf8-d419-a0a59ccc7bd4"
   },
   "outputs": [],
   "source": [
    "def morphological_operation(image):\n",
    "\n",
    "    def opening(img, kernel):\n",
    "        return cv2.morphologyEx(img, cv2.MORPH_OPEN, kernel)\n",
    "    \n",
    "    def closing(img, kernel):\n",
    "        return cv2.morphologyEx(img, cv2.MORPH_CLOSE, kernel)\n",
    "    @interact(operation=['Erosion','Dilation', 'Opening', 'Closing'], \n",
    "                struct_el=['MORPH_RECT','MORPH_ELLIPSE', 'MORPH_CROSS'], \n",
    "                size = widgets.IntSlider(min=3, max=15, step=2, value=5))\n",
    "    def trackbar(operation, struct_el, size):\n",
    "        operation_dict = {'Erosion': cv2.erode,'Dilation': cv2.dilate,\n",
    "                        'Opening': opening, 'Closing': closing}\n",
    "        struct_el_dict = {'MORPH_RECT': cv2.getStructuringElement(cv2.MORPH_RECT,(size, size)),\n",
    "                        'MORPH_ELLIPSE': cv2.getStructuringElement(cv2.MORPH_ELLIPSE,(size, size)),\n",
    "                        'MORPH_CROSS': cv2.getStructuringElement(cv2.MORPH_CROSS,(size, size))}\n",
    "        result = operation_dict[operation](image, struct_el_dict[struct_el])\n",
    "        plt.imshow(result, cmap=plt.get_cmap('gray'))\n",
    "        \n",
    "        \n",
    "#using sobel output form above\n",
    "full_sobel_img[full_sobel_img>30] = 255\n",
    "plt.imshow(full_sobel_img, cmap=plt.get_cmap('gray'))\n",
    "morphological_operation(full_sobel_img)\n"
   ]
  },
  {
   "cell_type": "markdown",
   "metadata": {
    "id": "Aa74qglYX6mi"
   },
   "source": [
    "# Feature Extraction"
   ]
  },
  {
   "cell_type": "code",
   "execution_count": null,
   "metadata": {
    "colab": {
     "base_uri": "https://localhost:8080/",
     "height": 557
    },
    "id": "gU7fojMnX6Jr",
    "outputId": "68866951-9683-4782-856b-7c7644168c27"
   },
   "outputs": [],
   "source": [
    "import numpy as np\n",
    "shapes = cv2.imread('contours.png')\n",
    "\n",
    "gray_shapes = cv2.cvtColor(shapes, cv2.COLOR_BGR2GRAY)\n",
    "_,thresh1 = cv2.threshold(gray_shapes,90,255,cv2.THRESH_BINARY)\n",
    "plt.imshow(thresh1, cmap=plt.get_cmap('gray'))"
   ]
  },
  {
   "cell_type": "code",
   "execution_count": null,
   "metadata": {
    "colab": {
     "base_uri": "https://localhost:8080/",
     "height": 932
    },
    "id": "RbEcNq6sZz53",
    "outputId": "588e3db6-d540-41b0-afca-7114c5fb6be7"
   },
   "outputs": [],
   "source": [
    "contours, hierarchy = cv2.findContours(thresh1, cv2.RETR_TREE, cv2.CHAIN_APPROX_SIMPLE)\n",
    "img_with_contours = cv2.drawContours(shapes, contours, -1, (255,0,0), 3)\n",
    "plt.imshow(img_with_contours)\n",
    "print(hierarchy)"
   ]
  },
  {
   "cell_type": "code",
   "execution_count": null,
   "metadata": {
    "colab": {
     "base_uri": "https://localhost:8080/"
    },
    "id": "VousIkzooRH6",
    "outputId": "198fb1e9-2806-404c-9a44-66644039a750"
   },
   "outputs": [],
   "source": [
    "# Get rid of internal contours, extract information about childs\n",
    "\n",
    "filtered_contours = []\n",
    "has_a_child = []\n",
    "\n",
    "for contour, h in zip(contours, hierarchy[0]):\n",
    "    if h[3] == -1:\n",
    "        filtered_contours.append(contour)\n",
    "        if h[2] != -1:\n",
    "            has_a_child.append(1)\n",
    "        else:\n",
    "            has_a_child.append(0)\n",
    "print(has_a_child)"
   ]
  },
  {
   "cell_type": "code",
   "execution_count": null,
   "metadata": {
    "colab": {
     "base_uri": "https://localhost:8080/"
    },
    "id": "hlcZZbqF4A6f",
    "outputId": "76730aa0-0e8b-4262-ee2a-1313bcd67a62"
   },
   "outputs": [],
   "source": [
    "# Get all usefull information from contours\n",
    "features_list = []\n",
    "\n",
    "for contour, childs in zip(filtered_contours, has_a_child):\n",
    "    print(contour)\n",
    "    moments = cv2.moments(contour)\n",
    "    hu_moments = cv2.HuMoments(moments)\n",
    "    \n",
    "    contour_area = cv2.contourArea(contour)\n",
    "    arc_length = cv2.arcLength(contour, True)\n",
    "    if arc_length > 0:\n",
    "        features = {f'Hu moment no. {x}': hu[0] for x, hu in enumerate(hu_moments)}\n",
    "        features['circularity'] = 4 * 3.14 * contour_area / arc_length**2\n",
    "        features['has_child'] = childs\n",
    "        features_list.append(features)"
   ]
  },
  {
   "cell_type": "code",
   "execution_count": null,
   "metadata": {
    "colab": {
     "base_uri": "https://localhost:8080/",
     "height": 582
    },
    "id": "9i6pIfTn6Gyb",
    "outputId": "5202e526-6a34-4997-c298-090d32f35629"
   },
   "outputs": [],
   "source": [
    "# Save data as pd.DataFrame\n",
    "import pandas as pd\n",
    "\n",
    "pd.options.display.float_format = \"{:,.2f}\".format\n",
    "df = pd.DataFrame(features_list)\n",
    "df"
   ]
  },
  {
   "cell_type": "code",
   "execution_count": null,
   "metadata": {
    "colab": {
     "base_uri": "https://localhost:8080/",
     "height": 896
    },
    "id": "VvbEbsXg9GMj",
    "outputId": "a41a49b0-a295-473c-e697-31aeb891b99e"
   },
   "outputs": [],
   "source": [
    "from sklearn.cluster import KMeans\n",
    "import numpy as np\n",
    "\n",
    "from sklearn import preprocessing\n",
    "\n",
    "#proszę zamienić DataFrame na macierz\n",
    "x = None\n",
    "\n",
    "#zainicjalizować Normalizer i zastosować go do macierzy x\n",
    "normalizer = None\n",
    "x_scaled = None\n",
    "\n",
    "#proszę wytrenować KMeans z liczbą klastrów 5 (można też z 4) na x_scaled\n",
    "kmeans = None\n",
    "\n",
    "\n",
    "colors = [(255,0,0), (255,255,0), (255,0,255), (0,255,0), (0,255,255), (0,0,255)]\n",
    "\n",
    "\n",
    "for contour, label in zip(filtered_contours, kmeans.labels_):\n",
    "    classified = cv2.drawContours(shapes, [contour], 0, colors[label], 3)\n",
    "\n",
    "\n",
    "plt.imshow(classified)\n"
   ]
  },
  {
   "cell_type": "markdown",
   "metadata": {
    "id": "X7ccWT8uhIAN"
   },
   "source": [
    "# Sesja samodzielna\n",
    "\n",
    "**MNIST**\n",
    "\n",
    "Zbiór danych MNIST to akronim oznaczający zbiór danych Modified National Institute of Standards and Technology.\n",
    "\n",
    "Jest to zbiór danych zawierający 60000 małych kwadratowych obrazów 28 × 28 pikseli w skali szarości, składających się z odręcznych pojedynczych cyfr od 0 do 9.\n",
    "\n",
    "Zadanie polega na zaklasyfikowaniu danego obrazu odręcznej cyfry do jednej z 10 klas reprezentujących wartości całkowite od 0 do 9 włącznie.\n",
    "\n",
    "Jest to powszechnie używany i głęboko rozumiany zbiór danych, który w większości jest „rozwiązany”. Modele o najwyższej wydajności to splotowe sieci neuronowe do głębokiego uczenia, które osiągają dokładność klasyfikacji powyżej 99%, przy współczynniku błędów między 0,4% a 0,2% w przypadku zestawu danych testowych.\n",
    "\n",
    "**Zadanie**\n",
    "\n",
    "Z wykorzystaniem konwencjonalnych metod, stwórz pipeline wydobywający cechy z obrazu i na ich podstawie spróbuj rozwiązać to zadanie.\n"
   ]
  },
  {
   "cell_type": "markdown",
   "metadata": {
    "id": "xj5sQJ07x25F"
   },
   "source": [
    "1.   Załaduj bazę obrazów do pamieci\n",
    "2.   Wyświetl kilka przykładowych obrazów, żeby zapoznać się z MNISTem\n",
    "3.   Stwórz funkcję pobierającą informację o odpowiednim konturze z obrazka\n",
    "4.   Stwórz funkcję pobierającą featury z konturu\n",
    "5.   Przedstaw dane w postaci dataframów (nie zapomnij - zarówno dla obrazów testowych i treningowych)\n",
    "6.   Znormalizuj dane!\n",
    "7.   Klasyfikacja! Wyniki przedstaw w raporcie\n"
   ]
  },
  {
   "cell_type": "markdown",
   "metadata": {
    "id": "RkJI-Q2UyFgG"
   },
   "source": [
    "# Zbiór odpowiedzi"
   ]
  },
  {
   "cell_type": "markdown",
   "metadata": {
    "id": "vSy9XkdSyLoI"
   },
   "source": [
    "1.   Załaduj bazę obrazów do pamieci\n",
    "\n",
    "\n"
   ]
  },
  {
   "cell_type": "code",
   "execution_count": null,
   "metadata": {
    "colab": {
     "base_uri": "https://localhost:8080/"
    },
    "id": "5-YaMg_WihtB",
    "outputId": "1c41e037-5659-492d-f3aa-7e731b586668"
   },
   "outputs": [],
   "source": [
    "from keras.datasets import mnist\n",
    "\n",
    "#załadowanie danych mnist\n",
    "_ = mnist.load_data()\n",
    "\n",
    "#odpowiednio zadeklarować zmianne i sprawdzić ich wielkość\n",
    "\n",
    "print('X_train: ' + str(None))\n",
    "print('Y_train: ' + str(None))\n",
    "print('X_test:  '  + str(None))\n",
    "print('Y_test:  '  + str(None))"
   ]
  },
  {
   "cell_type": "markdown",
   "metadata": {
    "id": "bluTLykR0CjD"
   },
   "source": [
    "2.   Wyświetl kilka przykładowych obrazów, żeby zapoznać się z MNISTem\n"
   ]
  },
  {
   "cell_type": "code",
   "execution_count": null,
   "metadata": {
    "colab": {
     "base_uri": "https://localhost:8080/",
     "height": 899
    },
    "id": "E5Wr_OTTinVA",
    "outputId": "0f203d73-0915-4c42-c8c3-560443a66ecd"
   },
   "outputs": [],
   "source": [
    "#poniżej w miejscu None wyciągnąć 9 pierwszych obrazków ze zbioru treningowego\n",
    "for i in range(9):  \n",
    "    plt.subplot(330 + 1 + i)\n",
    "    plt.imshow(None[i], cmap=plt.get_cmap('copper'))\n",
    "    plt.show()\n"
   ]
  },
  {
   "cell_type": "markdown",
   "metadata": {
    "id": "YSWeHezA0FKt"
   },
   "source": [
    "3.   Stwórz funkcję pobierającą informację o odpowiednim konturze z obrazka\n"
   ]
  },
  {
   "cell_type": "code",
   "execution_count": null,
   "metadata": {
    "id": "B-pSJ58Rjv4k"
   },
   "outputs": [],
   "source": [
    "import pandas as pd\n",
    "\n",
    "#funkcja do zczytania konturów i wybrania tylko \"rodziców\" a odrzucenia \"dzieci\"\n",
    "def get_contour(image):\n",
    "    #threshold\n",
    "    _,thresh1 = cv2.threshold(image,50,255,cv2.THRESH_BINARY)\n",
    "    #wyciągnięcie konturów\n",
    "    contours, hierarchy = cv2.findContours(thresh1, cv2.RETR_TREE, cv2.CHAIN_APPROX_SIMPLE)\n",
    "    \n",
    "    for contour, h in zip(contours, hierarchy[0]):\n",
    "        if h[3] == -1:\n",
    "            return contour, len(contours)-1"
   ]
  },
  {
   "cell_type": "markdown",
   "metadata": {
    "id": "bcVfbAv70HoL"
   },
   "source": [
    "4.   Stwórz funkcję pobierającą featury z konturu"
   ]
  },
  {
   "cell_type": "code",
   "execution_count": null,
   "metadata": {
    "id": "gOK4spGz0MgN"
   },
   "outputs": [],
   "source": [
    "def get_fetures(cnt, childs):\n",
    "\n",
    "    moments = cv2.moments(cnt)\n",
    "    hu_moments = cv2.HuMoments(moments)\n",
    "    features = {f'Hu moment no. {x}': hu[0] for x, hu in enumerate(hu_moments)}\n",
    "    contour_area = cv2.contourArea(cnt)\n",
    "    arc_length = cv2.arcLength(cnt, True)\n",
    "    try:\n",
    "        features['circularity'] = 4 * 3.14 * contour_area / arc_length**2\n",
    "    except ZeroDivisionError:\n",
    "        features['circularity'] = 0\n",
    "    features['childs'] = childs\n",
    "    \n",
    "    return features"
   ]
  },
  {
   "cell_type": "markdown",
   "metadata": {
    "id": "_-aZRAZ-0PAb"
   },
   "source": [
    "5.   Przedstaw dane w postaci dataframów (nie zapomnij - zarówno dla obrazów testowych i treningowych)"
   ]
  },
  {
   "cell_type": "code",
   "execution_count": null,
   "metadata": {
    "colab": {
     "base_uri": "https://localhost:8080/",
     "height": 423
    },
    "id": "xN8mXfX2tUyN",
    "outputId": "72b84ae3-3c7c-4b34-d6d4-dfc42c458ecb"
   },
   "outputs": [],
   "source": [
    "# train data\n",
    "\n",
    "lst_features = []\n",
    "for image in train_X:  \n",
    "    contour, childs = get_contour(image)\n",
    "    lst_features.append(get_fetures(contour, childs))\n",
    "\n",
    "pd.options.display.float_format = \"{:,.2f}\".format\n",
    "df_train = pd.DataFrame(lst_features)\n",
    "df_train\n",
    "\n",
    "# test data\n",
    "\n",
    "lst_features = []\n",
    "for image in test_X:  \n",
    "    contour, childs = get_contour(image)\n",
    "    lst_features.append(get_fetures(contour, childs))\n",
    "\n",
    "pd.options.display.float_format = \"{:,.2f}\".format\n",
    "df_test = pd.DataFrame(lst_features)\n",
    "df_test\n"
   ]
  },
  {
   "cell_type": "markdown",
   "metadata": {
    "id": "DRcjUeNW0Rvs"
   },
   "source": [
    "6.   Znormalizuj dane!"
   ]
  },
  {
   "cell_type": "code",
   "execution_count": null,
   "metadata": {
    "id": "mTQQBoQ4udBx"
   },
   "outputs": [],
   "source": [
    "#Normalization\n",
    "from sklearn import preprocessing\n",
    "\n",
    "def normalize(data):\n",
    "    #utwórz macierz na podstawie danych\n",
    "    x = None\n",
    "    #znormalizuj dane x i przypisz do x_scaled\n",
    "    normalizer = None\n",
    "    x_scaled = None\n",
    "    #przypisz x_scaled do DataFrame\n",
    "    data = None\n",
    "    return data\n",
    "\n",
    "df_test = normalize(df_test)\n",
    "df_train = normalize(df_train)"
   ]
  },
  {
   "cell_type": "markdown",
   "metadata": {
    "id": "eHPPaa1Z0TSF"
   },
   "source": [
    "7.   Klasyfikacja! Wyniki przedstaw w raporcie"
   ]
  },
  {
   "cell_type": "code",
   "execution_count": null,
   "metadata": {
    "colab": {
     "base_uri": "https://localhost:8080/"
    },
    "id": "yW3JtkJyvaNv",
    "outputId": "e0198998-f711-4ed9-8343-047f32ebf4b5"
   },
   "outputs": [],
   "source": [
    "from sklearn.metrics import classification_report\n",
    "from sklearn.tree import DecisionTreeClassifier\n",
    "\n",
    "#proszę wytrenować klasyfikator. Może być dowolny - ja proponuję prosty Decision Tree Classifier\n",
    "clf = None\n",
    "\n",
    "#wytrenowanie\n",
    "\n",
    "#przypisanie predykcji dla zbioru testowego\n",
    "prediction = None\n",
    "\n",
    "print(classification_report(test_y, prediction))"
   ]
  }
 ],
 "metadata": {
  "accelerator": "GPU",
  "colab": {
   "collapsed_sections": [],
   "name": "Computer Vision_Kamil_cv_day_1.ipynb",
   "provenance": []
  },
  "kernelspec": {
   "display_name": "Python (cv)",
   "language": "python",
   "name": "cv"
  },
  "language_info": {
   "codemirror_mode": {
    "name": "ipython",
    "version": 3
   },
   "file_extension": ".py",
   "mimetype": "text/x-python",
   "name": "python",
   "nbconvert_exporter": "python",
   "pygments_lexer": "ipython3",
   "version": "3.8.13"
  },
  "widgets": {
   "application/vnd.jupyter.widget-state+json": {
    "037c379f0b764c3baacc9ff1118e1250": {
     "model_module": "@jupyter-widgets/controls",
     "model_module_version": "1.5.0",
     "model_name": "DropdownModel",
     "state": {
      "_dom_classes": [],
      "_model_module": "@jupyter-widgets/controls",
      "_model_module_version": "1.5.0",
      "_model_name": "DropdownModel",
      "_options_labels": [
       "MORPH_RECT",
       "MORPH_ELLIPSE",
       "MORPH_CROSS"
      ],
      "_view_count": null,
      "_view_module": "@jupyter-widgets/controls",
      "_view_module_version": "1.5.0",
      "_view_name": "DropdownView",
      "description": "struct_el",
      "description_tooltip": null,
      "disabled": false,
      "index": 1,
      "layout": "IPY_MODEL_31f05a2a627449cea0f199cdf6044196",
      "style": "IPY_MODEL_901a38c849c8455290eeea1f24a764c4"
     }
    },
    "09a1d158ffef45eebcba1d85c20b6d9e": {
     "model_module": "@jupyter-widgets/base",
     "model_module_version": "1.2.0",
     "model_name": "LayoutModel",
     "state": {
      "_model_module": "@jupyter-widgets/base",
      "_model_module_version": "1.2.0",
      "_model_name": "LayoutModel",
      "_view_count": null,
      "_view_module": "@jupyter-widgets/base",
      "_view_module_version": "1.2.0",
      "_view_name": "LayoutView",
      "align_content": null,
      "align_items": null,
      "align_self": null,
      "border": null,
      "bottom": null,
      "display": null,
      "flex": null,
      "flex_flow": null,
      "grid_area": null,
      "grid_auto_columns": null,
      "grid_auto_flow": null,
      "grid_auto_rows": null,
      "grid_column": null,
      "grid_gap": null,
      "grid_row": null,
      "grid_template_areas": null,
      "grid_template_columns": null,
      "grid_template_rows": null,
      "height": null,
      "justify_content": null,
      "justify_items": null,
      "left": null,
      "margin": null,
      "max_height": null,
      "max_width": null,
      "min_height": null,
      "min_width": null,
      "object_fit": null,
      "object_position": null,
      "order": null,
      "overflow": null,
      "overflow_x": null,
      "overflow_y": null,
      "padding": null,
      "right": null,
      "top": null,
      "visibility": null,
      "width": null
     }
    },
    "0a42cfebc67742ed9e4c11a72fc7ca16": {
     "model_module": "@jupyter-widgets/output",
     "model_module_version": "1.0.0",
     "model_name": "OutputModel",
     "state": {
      "_dom_classes": [],
      "_model_module": "@jupyter-widgets/output",
      "_model_module_version": "1.0.0",
      "_model_name": "OutputModel",
      "_view_count": null,
      "_view_module": "@jupyter-widgets/output",
      "_view_module_version": "1.0.0",
      "_view_name": "OutputView",
      "layout": "IPY_MODEL_cb0c04e807904cae9d9bf3bb0fc9c535",
      "msg_id": "",
      "outputs": [
       {
        "data": {
         "image/png": "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\n",
         "text/plain": "<PIL.Image.Image image mode=L size=347x346 at 0x7F276EB55450>"
        },
        "metadata": {},
        "output_type": "display_data"
       }
      ]
     }
    },
    "21a7b178ce0e47ad9a0bc1fc67b759c6": {
     "model_module": "@jupyter-widgets/base",
     "model_module_version": "1.2.0",
     "model_name": "LayoutModel",
     "state": {
      "_model_module": "@jupyter-widgets/base",
      "_model_module_version": "1.2.0",
      "_model_name": "LayoutModel",
      "_view_count": null,
      "_view_module": "@jupyter-widgets/base",
      "_view_module_version": "1.2.0",
      "_view_name": "LayoutView",
      "align_content": null,
      "align_items": null,
      "align_self": null,
      "border": null,
      "bottom": null,
      "display": null,
      "flex": null,
      "flex_flow": null,
      "grid_area": null,
      "grid_auto_columns": null,
      "grid_auto_flow": null,
      "grid_auto_rows": null,
      "grid_column": null,
      "grid_gap": null,
      "grid_row": null,
      "grid_template_areas": null,
      "grid_template_columns": null,
      "grid_template_rows": null,
      "height": null,
      "justify_content": null,
      "justify_items": null,
      "left": null,
      "margin": null,
      "max_height": null,
      "max_width": null,
      "min_height": null,
      "min_width": null,
      "object_fit": null,
      "object_position": null,
      "order": null,
      "overflow": null,
      "overflow_x": null,
      "overflow_y": null,
      "padding": null,
      "right": null,
      "top": null,
      "visibility": null,
      "width": null
     }
    },
    "2973fe57fa8a45e3882612e907abf459": {
     "model_module": "@jupyter-widgets/output",
     "model_module_version": "1.0.0",
     "model_name": "OutputModel",
     "state": {
      "_dom_classes": [],
      "_model_module": "@jupyter-widgets/output",
      "_model_module_version": "1.0.0",
      "_model_name": "OutputModel",
      "_view_count": null,
      "_view_module": "@jupyter-widgets/output",
      "_view_module_version": "1.0.0",
      "_view_name": "OutputView",
      "layout": "IPY_MODEL_8d36e91bdd004ff8a1d48b85b6930aae",
      "msg_id": "",
      "outputs": [
       {
        "data": {
         "image/png": "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\n",
         "text/plain": "<PIL.Image.Image image mode=L size=347x346 at 0x7F276EB448D0>"
        },
        "metadata": {},
        "output_type": "display_data"
       }
      ]
     }
    },
    "31f05a2a627449cea0f199cdf6044196": {
     "model_module": "@jupyter-widgets/base",
     "model_module_version": "1.2.0",
     "model_name": "LayoutModel",
     "state": {
      "_model_module": "@jupyter-widgets/base",
      "_model_module_version": "1.2.0",
      "_model_name": "LayoutModel",
      "_view_count": null,
      "_view_module": "@jupyter-widgets/base",
      "_view_module_version": "1.2.0",
      "_view_name": "LayoutView",
      "align_content": null,
      "align_items": null,
      "align_self": null,
      "border": null,
      "bottom": null,
      "display": null,
      "flex": null,
      "flex_flow": null,
      "grid_area": null,
      "grid_auto_columns": null,
      "grid_auto_flow": null,
      "grid_auto_rows": null,
      "grid_column": null,
      "grid_gap": null,
      "grid_row": null,
      "grid_template_areas": null,
      "grid_template_columns": null,
      "grid_template_rows": null,
      "height": null,
      "justify_content": null,
      "justify_items": null,
      "left": null,
      "margin": null,
      "max_height": null,
      "max_width": null,
      "min_height": null,
      "min_width": null,
      "object_fit": null,
      "object_position": null,
      "order": null,
      "overflow": null,
      "overflow_x": null,
      "overflow_y": null,
      "padding": null,
      "right": null,
      "top": null,
      "visibility": null,
      "width": null
     }
    },
    "3229272b566f408c9c047154d7b4e87e": {
     "model_module": "@jupyter-widgets/base",
     "model_module_version": "1.2.0",
     "model_name": "LayoutModel",
     "state": {
      "_model_module": "@jupyter-widgets/base",
      "_model_module_version": "1.2.0",
      "_model_name": "LayoutModel",
      "_view_count": null,
      "_view_module": "@jupyter-widgets/base",
      "_view_module_version": "1.2.0",
      "_view_name": "LayoutView",
      "align_content": null,
      "align_items": null,
      "align_self": null,
      "border": null,
      "bottom": null,
      "display": null,
      "flex": null,
      "flex_flow": null,
      "grid_area": null,
      "grid_auto_columns": null,
      "grid_auto_flow": null,
      "grid_auto_rows": null,
      "grid_column": null,
      "grid_gap": null,
      "grid_row": null,
      "grid_template_areas": null,
      "grid_template_columns": null,
      "grid_template_rows": null,
      "height": null,
      "justify_content": null,
      "justify_items": null,
      "left": null,
      "margin": null,
      "max_height": null,
      "max_width": null,
      "min_height": null,
      "min_width": null,
      "object_fit": null,
      "object_position": null,
      "order": null,
      "overflow": null,
      "overflow_x": null,
      "overflow_y": null,
      "padding": null,
      "right": null,
      "top": null,
      "visibility": null,
      "width": null
     }
    },
    "339ff348dab34d70893d366615619c06": {
     "model_module": "@jupyter-widgets/controls",
     "model_module_version": "1.5.0",
     "model_name": "IntSliderModel",
     "state": {
      "_dom_classes": [],
      "_model_module": "@jupyter-widgets/controls",
      "_model_module_version": "1.5.0",
      "_model_name": "IntSliderModel",
      "_view_count": null,
      "_view_module": "@jupyter-widgets/controls",
      "_view_module_version": "1.5.0",
      "_view_name": "IntSliderView",
      "continuous_update": true,
      "description": "x",
      "description_tooltip": null,
      "disabled": false,
      "layout": "IPY_MODEL_75e3316cd12a4f17ba8bf367094c9613",
      "max": 255,
      "min": 0,
      "orientation": "horizontal",
      "readout": true,
      "readout_format": "d",
      "step": 1,
      "style": "IPY_MODEL_cfdd3714f7734e64bee8ed4c3dcdf332",
      "value": 153
     }
    },
    "3b47cf5692874295b429a14c5a7b3774": {
     "model_module": "@jupyter-widgets/controls",
     "model_module_version": "1.5.0",
     "model_name": "IntSliderModel",
     "state": {
      "_dom_classes": [],
      "_model_module": "@jupyter-widgets/controls",
      "_model_module_version": "1.5.0",
      "_model_name": "IntSliderModel",
      "_view_count": null,
      "_view_module": "@jupyter-widgets/controls",
      "_view_module_version": "1.5.0",
      "_view_name": "IntSliderView",
      "continuous_update": true,
      "description": "x",
      "description_tooltip": null,
      "disabled": false,
      "layout": "IPY_MODEL_dc11edc1c5cd48d9a0e9312c91e97d34",
      "max": 15,
      "min": 3,
      "orientation": "horizontal",
      "readout": true,
      "readout_format": "d",
      "step": 2,
      "style": "IPY_MODEL_568d0b19254c496184cdb9aeaf96678e",
      "value": 3
     }
    },
    "3e073626621e48cead203432feee8cf5": {
     "model_module": "@jupyter-widgets/controls",
     "model_module_version": "1.5.0",
     "model_name": "IntSliderModel",
     "state": {
      "_dom_classes": [],
      "_model_module": "@jupyter-widgets/controls",
      "_model_module_version": "1.5.0",
      "_model_name": "IntSliderModel",
      "_view_count": null,
      "_view_module": "@jupyter-widgets/controls",
      "_view_module_version": "1.5.0",
      "_view_name": "IntSliderView",
      "continuous_update": true,
      "description": "size",
      "description_tooltip": null,
      "disabled": false,
      "layout": "IPY_MODEL_3229272b566f408c9c047154d7b4e87e",
      "max": 15,
      "min": 3,
      "orientation": "horizontal",
      "readout": true,
      "readout_format": "d",
      "step": 2,
      "style": "IPY_MODEL_ab8b8f710bd04f2b87c8097b79ce7c60",
      "value": 3
     }
    },
    "443d957d32e3435abd7d28b7ce8068fa": {
     "model_module": "@jupyter-widgets/controls",
     "model_module_version": "1.5.0",
     "model_name": "CheckboxModel",
     "state": {
      "_dom_classes": [],
      "_model_module": "@jupyter-widgets/controls",
      "_model_module_version": "1.5.0",
      "_model_name": "CheckboxModel",
      "_view_count": null,
      "_view_module": "@jupyter-widgets/controls",
      "_view_module_version": "1.5.0",
      "_view_name": "CheckboxView",
      "description": "y",
      "description_tooltip": null,
      "disabled": false,
      "indent": true,
      "layout": "IPY_MODEL_21a7b178ce0e47ad9a0bc1fc67b759c6",
      "style": "IPY_MODEL_c39f5baca4114b6690b21c0b71d3bf7b",
      "value": true
     }
    },
    "47b5aeb9e3b74da08701c35d348b1a13": {
     "model_module": "@jupyter-widgets/controls",
     "model_module_version": "1.5.0",
     "model_name": "VBoxModel",
     "state": {
      "_dom_classes": [
       "widget-interact"
      ],
      "_model_module": "@jupyter-widgets/controls",
      "_model_module_version": "1.5.0",
      "_model_name": "VBoxModel",
      "_view_count": null,
      "_view_module": "@jupyter-widgets/controls",
      "_view_module_version": "1.5.0",
      "_view_name": "VBoxView",
      "box_style": "",
      "children": [
       "IPY_MODEL_339ff348dab34d70893d366615619c06",
       "IPY_MODEL_2973fe57fa8a45e3882612e907abf459"
      ],
      "layout": "IPY_MODEL_f14a40ab70684aeea8de4556d4c0f055"
     }
    },
    "4845519875804772be50c3365153f0a5": {
     "model_module": "@jupyter-widgets/base",
     "model_module_version": "1.2.0",
     "model_name": "LayoutModel",
     "state": {
      "_model_module": "@jupyter-widgets/base",
      "_model_module_version": "1.2.0",
      "_model_name": "LayoutModel",
      "_view_count": null,
      "_view_module": "@jupyter-widgets/base",
      "_view_module_version": "1.2.0",
      "_view_name": "LayoutView",
      "align_content": null,
      "align_items": null,
      "align_self": null,
      "border": null,
      "bottom": null,
      "display": null,
      "flex": null,
      "flex_flow": null,
      "grid_area": null,
      "grid_auto_columns": null,
      "grid_auto_flow": null,
      "grid_auto_rows": null,
      "grid_column": null,
      "grid_gap": null,
      "grid_row": null,
      "grid_template_areas": null,
      "grid_template_columns": null,
      "grid_template_rows": null,
      "height": null,
      "justify_content": null,
      "justify_items": null,
      "left": null,
      "margin": null,
      "max_height": null,
      "max_width": null,
      "min_height": null,
      "min_width": null,
      "object_fit": null,
      "object_position": null,
      "order": null,
      "overflow": null,
      "overflow_x": null,
      "overflow_y": null,
      "padding": null,
      "right": null,
      "top": null,
      "visibility": null,
      "width": null
     }
    },
    "568d0b19254c496184cdb9aeaf96678e": {
     "model_module": "@jupyter-widgets/controls",
     "model_module_version": "1.5.0",
     "model_name": "SliderStyleModel",
     "state": {
      "_model_module": "@jupyter-widgets/controls",
      "_model_module_version": "1.5.0",
      "_model_name": "SliderStyleModel",
      "_view_count": null,
      "_view_module": "@jupyter-widgets/base",
      "_view_module_version": "1.2.0",
      "_view_name": "StyleView",
      "description_width": "",
      "handle_color": null
     }
    },
    "587e27b3987b4c4e9ce2e40a81a555b7": {
     "model_module": "@jupyter-widgets/output",
     "model_module_version": "1.0.0",
     "model_name": "OutputModel",
     "state": {
      "_dom_classes": [],
      "_model_module": "@jupyter-widgets/output",
      "_model_module_version": "1.0.0",
      "_model_name": "OutputModel",
      "_view_count": null,
      "_view_module": "@jupyter-widgets/output",
      "_view_module_version": "1.0.0",
      "_view_name": "OutputView",
      "layout": "IPY_MODEL_e2555bf3ac664fb89f77575b7a606062",
      "msg_id": "",
      "outputs": [
       {
        "data": {
         "image/png": "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\n",
         "text/plain": "<PIL.Image.Image image mode=L size=347x346 at 0x7F276EB2D910>"
        },
        "metadata": {},
        "output_type": "display_data"
       }
      ]
     }
    },
    "75e3316cd12a4f17ba8bf367094c9613": {
     "model_module": "@jupyter-widgets/base",
     "model_module_version": "1.2.0",
     "model_name": "LayoutModel",
     "state": {
      "_model_module": "@jupyter-widgets/base",
      "_model_module_version": "1.2.0",
      "_model_name": "LayoutModel",
      "_view_count": null,
      "_view_module": "@jupyter-widgets/base",
      "_view_module_version": "1.2.0",
      "_view_name": "LayoutView",
      "align_content": null,
      "align_items": null,
      "align_self": null,
      "border": null,
      "bottom": null,
      "display": null,
      "flex": null,
      "flex_flow": null,
      "grid_area": null,
      "grid_auto_columns": null,
      "grid_auto_flow": null,
      "grid_auto_rows": null,
      "grid_column": null,
      "grid_gap": null,
      "grid_row": null,
      "grid_template_areas": null,
      "grid_template_columns": null,
      "grid_template_rows": null,
      "height": null,
      "justify_content": null,
      "justify_items": null,
      "left": null,
      "margin": null,
      "max_height": null,
      "max_width": null,
      "min_height": null,
      "min_width": null,
      "object_fit": null,
      "object_position": null,
      "order": null,
      "overflow": null,
      "overflow_x": null,
      "overflow_y": null,
      "padding": null,
      "right": null,
      "top": null,
      "visibility": null,
      "width": null
     }
    },
    "8740394ae5704f739c6e44b7d7b5252a": {
     "model_module": "@jupyter-widgets/base",
     "model_module_version": "1.2.0",
     "model_name": "LayoutModel",
     "state": {
      "_model_module": "@jupyter-widgets/base",
      "_model_module_version": "1.2.0",
      "_model_name": "LayoutModel",
      "_view_count": null,
      "_view_module": "@jupyter-widgets/base",
      "_view_module_version": "1.2.0",
      "_view_name": "LayoutView",
      "align_content": null,
      "align_items": null,
      "align_self": null,
      "border": null,
      "bottom": null,
      "display": null,
      "flex": null,
      "flex_flow": null,
      "grid_area": null,
      "grid_auto_columns": null,
      "grid_auto_flow": null,
      "grid_auto_rows": null,
      "grid_column": null,
      "grid_gap": null,
      "grid_row": null,
      "grid_template_areas": null,
      "grid_template_columns": null,
      "grid_template_rows": null,
      "height": null,
      "justify_content": null,
      "justify_items": null,
      "left": null,
      "margin": null,
      "max_height": null,
      "max_width": null,
      "min_height": null,
      "min_width": null,
      "object_fit": null,
      "object_position": null,
      "order": null,
      "overflow": null,
      "overflow_x": null,
      "overflow_y": null,
      "padding": null,
      "right": null,
      "top": null,
      "visibility": null,
      "width": null
     }
    },
    "8d36e91bdd004ff8a1d48b85b6930aae": {
     "model_module": "@jupyter-widgets/base",
     "model_module_version": "1.2.0",
     "model_name": "LayoutModel",
     "state": {
      "_model_module": "@jupyter-widgets/base",
      "_model_module_version": "1.2.0",
      "_model_name": "LayoutModel",
      "_view_count": null,
      "_view_module": "@jupyter-widgets/base",
      "_view_module_version": "1.2.0",
      "_view_name": "LayoutView",
      "align_content": null,
      "align_items": null,
      "align_self": null,
      "border": null,
      "bottom": null,
      "display": null,
      "flex": null,
      "flex_flow": null,
      "grid_area": null,
      "grid_auto_columns": null,
      "grid_auto_flow": null,
      "grid_auto_rows": null,
      "grid_column": null,
      "grid_gap": null,
      "grid_row": null,
      "grid_template_areas": null,
      "grid_template_columns": null,
      "grid_template_rows": null,
      "height": null,
      "justify_content": null,
      "justify_items": null,
      "left": null,
      "margin": null,
      "max_height": null,
      "max_width": null,
      "min_height": null,
      "min_width": null,
      "object_fit": null,
      "object_position": null,
      "order": null,
      "overflow": null,
      "overflow_x": null,
      "overflow_y": null,
      "padding": null,
      "right": null,
      "top": null,
      "visibility": null,
      "width": null
     }
    },
    "901a38c849c8455290eeea1f24a764c4": {
     "model_module": "@jupyter-widgets/controls",
     "model_module_version": "1.5.0",
     "model_name": "DescriptionStyleModel",
     "state": {
      "_model_module": "@jupyter-widgets/controls",
      "_model_module_version": "1.5.0",
      "_model_name": "DescriptionStyleModel",
      "_view_count": null,
      "_view_module": "@jupyter-widgets/base",
      "_view_module_version": "1.2.0",
      "_view_name": "StyleView",
      "description_width": ""
     }
    },
    "9b769cf149874ffa84fff8a89245fa5e": {
     "model_module": "@jupyter-widgets/controls",
     "model_module_version": "1.5.0",
     "model_name": "DropdownModel",
     "state": {
      "_dom_classes": [],
      "_model_module": "@jupyter-widgets/controls",
      "_model_module_version": "1.5.0",
      "_model_name": "DropdownModel",
      "_options_labels": [
       "Erosion",
       "Dilation",
       "Opening",
       "Closing"
      ],
      "_view_count": null,
      "_view_module": "@jupyter-widgets/controls",
      "_view_module_version": "1.5.0",
      "_view_name": "DropdownView",
      "description": "operation",
      "description_tooltip": null,
      "disabled": false,
      "index": 3,
      "layout": "IPY_MODEL_09a1d158ffef45eebcba1d85c20b6d9e",
      "style": "IPY_MODEL_d1ffcf83d569434a850c721588e3ec61"
     }
    },
    "a92cc5e42f794fa0922612db558ead30": {
     "model_module": "@jupyter-widgets/controls",
     "model_module_version": "1.5.0",
     "model_name": "VBoxModel",
     "state": {
      "_dom_classes": [
       "widget-interact"
      ],
      "_model_module": "@jupyter-widgets/controls",
      "_model_module_version": "1.5.0",
      "_model_name": "VBoxModel",
      "_view_count": null,
      "_view_module": "@jupyter-widgets/controls",
      "_view_module_version": "1.5.0",
      "_view_name": "VBoxView",
      "box_style": "",
      "children": [
       "IPY_MODEL_9b769cf149874ffa84fff8a89245fa5e",
       "IPY_MODEL_037c379f0b764c3baacc9ff1118e1250",
       "IPY_MODEL_3e073626621e48cead203432feee8cf5",
       "IPY_MODEL_0a42cfebc67742ed9e4c11a72fc7ca16"
      ],
      "layout": "IPY_MODEL_4845519875804772be50c3365153f0a5"
     }
    },
    "ab8b8f710bd04f2b87c8097b79ce7c60": {
     "model_module": "@jupyter-widgets/controls",
     "model_module_version": "1.5.0",
     "model_name": "SliderStyleModel",
     "state": {
      "_model_module": "@jupyter-widgets/controls",
      "_model_module_version": "1.5.0",
      "_model_name": "SliderStyleModel",
      "_view_count": null,
      "_view_module": "@jupyter-widgets/base",
      "_view_module_version": "1.2.0",
      "_view_name": "StyleView",
      "description_width": "",
      "handle_color": null
     }
    },
    "c39f5baca4114b6690b21c0b71d3bf7b": {
     "model_module": "@jupyter-widgets/controls",
     "model_module_version": "1.5.0",
     "model_name": "DescriptionStyleModel",
     "state": {
      "_model_module": "@jupyter-widgets/controls",
      "_model_module_version": "1.5.0",
      "_model_name": "DescriptionStyleModel",
      "_view_count": null,
      "_view_module": "@jupyter-widgets/base",
      "_view_module_version": "1.2.0",
      "_view_name": "StyleView",
      "description_width": ""
     }
    },
    "cb0c04e807904cae9d9bf3bb0fc9c535": {
     "model_module": "@jupyter-widgets/base",
     "model_module_version": "1.2.0",
     "model_name": "LayoutModel",
     "state": {
      "_model_module": "@jupyter-widgets/base",
      "_model_module_version": "1.2.0",
      "_model_name": "LayoutModel",
      "_view_count": null,
      "_view_module": "@jupyter-widgets/base",
      "_view_module_version": "1.2.0",
      "_view_name": "LayoutView",
      "align_content": null,
      "align_items": null,
      "align_self": null,
      "border": null,
      "bottom": null,
      "display": null,
      "flex": null,
      "flex_flow": null,
      "grid_area": null,
      "grid_auto_columns": null,
      "grid_auto_flow": null,
      "grid_auto_rows": null,
      "grid_column": null,
      "grid_gap": null,
      "grid_row": null,
      "grid_template_areas": null,
      "grid_template_columns": null,
      "grid_template_rows": null,
      "height": null,
      "justify_content": null,
      "justify_items": null,
      "left": null,
      "margin": null,
      "max_height": null,
      "max_width": null,
      "min_height": null,
      "min_width": null,
      "object_fit": null,
      "object_position": null,
      "order": null,
      "overflow": null,
      "overflow_x": null,
      "overflow_y": null,
      "padding": null,
      "right": null,
      "top": null,
      "visibility": null,
      "width": null
     }
    },
    "cfdd3714f7734e64bee8ed4c3dcdf332": {
     "model_module": "@jupyter-widgets/controls",
     "model_module_version": "1.5.0",
     "model_name": "SliderStyleModel",
     "state": {
      "_model_module": "@jupyter-widgets/controls",
      "_model_module_version": "1.5.0",
      "_model_name": "SliderStyleModel",
      "_view_count": null,
      "_view_module": "@jupyter-widgets/base",
      "_view_module_version": "1.2.0",
      "_view_name": "StyleView",
      "description_width": "",
      "handle_color": null
     }
    },
    "d1ffcf83d569434a850c721588e3ec61": {
     "model_module": "@jupyter-widgets/controls",
     "model_module_version": "1.5.0",
     "model_name": "DescriptionStyleModel",
     "state": {
      "_model_module": "@jupyter-widgets/controls",
      "_model_module_version": "1.5.0",
      "_model_name": "DescriptionStyleModel",
      "_view_count": null,
      "_view_module": "@jupyter-widgets/base",
      "_view_module_version": "1.2.0",
      "_view_name": "StyleView",
      "description_width": ""
     }
    },
    "dc11edc1c5cd48d9a0e9312c91e97d34": {
     "model_module": "@jupyter-widgets/base",
     "model_module_version": "1.2.0",
     "model_name": "LayoutModel",
     "state": {
      "_model_module": "@jupyter-widgets/base",
      "_model_module_version": "1.2.0",
      "_model_name": "LayoutModel",
      "_view_count": null,
      "_view_module": "@jupyter-widgets/base",
      "_view_module_version": "1.2.0",
      "_view_name": "LayoutView",
      "align_content": null,
      "align_items": null,
      "align_self": null,
      "border": null,
      "bottom": null,
      "display": null,
      "flex": null,
      "flex_flow": null,
      "grid_area": null,
      "grid_auto_columns": null,
      "grid_auto_flow": null,
      "grid_auto_rows": null,
      "grid_column": null,
      "grid_gap": null,
      "grid_row": null,
      "grid_template_areas": null,
      "grid_template_columns": null,
      "grid_template_rows": null,
      "height": null,
      "justify_content": null,
      "justify_items": null,
      "left": null,
      "margin": null,
      "max_height": null,
      "max_width": null,
      "min_height": null,
      "min_width": null,
      "object_fit": null,
      "object_position": null,
      "order": null,
      "overflow": null,
      "overflow_x": null,
      "overflow_y": null,
      "padding": null,
      "right": null,
      "top": null,
      "visibility": null,
      "width": null
     }
    },
    "dc4932d5ba14434e860f889cd849d5af": {
     "model_module": "@jupyter-widgets/controls",
     "model_module_version": "1.5.0",
     "model_name": "VBoxModel",
     "state": {
      "_dom_classes": [
       "widget-interact"
      ],
      "_model_module": "@jupyter-widgets/controls",
      "_model_module_version": "1.5.0",
      "_model_name": "VBoxModel",
      "_view_count": null,
      "_view_module": "@jupyter-widgets/controls",
      "_view_module_version": "1.5.0",
      "_view_name": "VBoxView",
      "box_style": "",
      "children": [
       "IPY_MODEL_3b47cf5692874295b429a14c5a7b3774",
       "IPY_MODEL_443d957d32e3435abd7d28b7ce8068fa",
       "IPY_MODEL_587e27b3987b4c4e9ce2e40a81a555b7"
      ],
      "layout": "IPY_MODEL_8740394ae5704f739c6e44b7d7b5252a"
     }
    },
    "e2555bf3ac664fb89f77575b7a606062": {
     "model_module": "@jupyter-widgets/base",
     "model_module_version": "1.2.0",
     "model_name": "LayoutModel",
     "state": {
      "_model_module": "@jupyter-widgets/base",
      "_model_module_version": "1.2.0",
      "_model_name": "LayoutModel",
      "_view_count": null,
      "_view_module": "@jupyter-widgets/base",
      "_view_module_version": "1.2.0",
      "_view_name": "LayoutView",
      "align_content": null,
      "align_items": null,
      "align_self": null,
      "border": null,
      "bottom": null,
      "display": null,
      "flex": null,
      "flex_flow": null,
      "grid_area": null,
      "grid_auto_columns": null,
      "grid_auto_flow": null,
      "grid_auto_rows": null,
      "grid_column": null,
      "grid_gap": null,
      "grid_row": null,
      "grid_template_areas": null,
      "grid_template_columns": null,
      "grid_template_rows": null,
      "height": null,
      "justify_content": null,
      "justify_items": null,
      "left": null,
      "margin": null,
      "max_height": null,
      "max_width": null,
      "min_height": null,
      "min_width": null,
      "object_fit": null,
      "object_position": null,
      "order": null,
      "overflow": null,
      "overflow_x": null,
      "overflow_y": null,
      "padding": null,
      "right": null,
      "top": null,
      "visibility": null,
      "width": null
     }
    },
    "f14a40ab70684aeea8de4556d4c0f055": {
     "model_module": "@jupyter-widgets/base",
     "model_module_version": "1.2.0",
     "model_name": "LayoutModel",
     "state": {
      "_model_module": "@jupyter-widgets/base",
      "_model_module_version": "1.2.0",
      "_model_name": "LayoutModel",
      "_view_count": null,
      "_view_module": "@jupyter-widgets/base",
      "_view_module_version": "1.2.0",
      "_view_name": "LayoutView",
      "align_content": null,
      "align_items": null,
      "align_self": null,
      "border": null,
      "bottom": null,
      "display": null,
      "flex": null,
      "flex_flow": null,
      "grid_area": null,
      "grid_auto_columns": null,
      "grid_auto_flow": null,
      "grid_auto_rows": null,
      "grid_column": null,
      "grid_gap": null,
      "grid_row": null,
      "grid_template_areas": null,
      "grid_template_columns": null,
      "grid_template_rows": null,
      "height": null,
      "justify_content": null,
      "justify_items": null,
      "left": null,
      "margin": null,
      "max_height": null,
      "max_width": null,
      "min_height": null,
      "min_width": null,
      "object_fit": null,
      "object_position": null,
      "order": null,
      "overflow": null,
      "overflow_x": null,
      "overflow_y": null,
      "padding": null,
      "right": null,
      "top": null,
      "visibility": null,
      "width": null
     }
    }
   }
  }
 },
 "nbformat": 4,
 "nbformat_minor": 1
}
